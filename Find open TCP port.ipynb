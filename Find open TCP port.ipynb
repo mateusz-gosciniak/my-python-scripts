{
 "cells": [
  {
   "cell_type": "code",
   "execution_count": 23,
   "metadata": {},
   "outputs": [],
   "source": [
    "import socket"
   ]
  },
  {
   "cell_type": "code",
   "execution_count": 27,
   "metadata": {},
   "outputs": [],
   "source": [
    "ips = ['127.0.0.1','10.188.18.23']\n",
    "ports = [80, 135, 445, 3389, 4899, 5985, 6835, 7846, 8181, 8846, 20931, 32227]\n",
    "\n",
    "def check_port(ip, port):\n",
    "    sock = socket.socket(socket.AF_INET, socket.SOCK_STREAM)\n",
    "    result = sock.connect_ex((ip,port))\n",
    "    sock.close()\n",
    "    return result"
   ]
  },
  {
   "cell_type": "code",
   "execution_count": 28,
   "metadata": {},
   "outputs": [
    {
     "name": "stdout",
     "output_type": "stream",
     "text": [
      "Port:  80  is open for ip:  127.0.0.1\n",
      "Port:  135  is open for ip:  127.0.0.1\n",
      "Port:  445  is open for ip:  127.0.0.1\n",
      "Port:  3389  is open for ip:  127.0.0.1\n",
      "Port:  4899  is not open for ip:  127.0.0.1\n",
      "Port:  5985  is not open for ip:  127.0.0.1\n",
      "Port:  6835  is not open for ip:  127.0.0.1\n",
      "Port:  7846  is not open for ip:  127.0.0.1\n",
      "Port:  8181  is not open for ip:  127.0.0.1\n",
      "Port:  8846  is not open for ip:  127.0.0.1\n",
      "Port:  20931  is not open for ip:  127.0.0.1\n",
      "Port:  32227  is open for ip:  127.0.0.1\n",
      "--\n",
      "Port:  80  is open for ip:  10.188.18.23\n",
      "Port:  135  is open for ip:  10.188.18.23\n",
      "Port:  445  is open for ip:  10.188.18.23\n",
      "Port:  3389  is open for ip:  10.188.18.23\n",
      "Port:  4899  is not open for ip:  10.188.18.23\n",
      "Port:  5985  is not open for ip:  10.188.18.23\n",
      "Port:  6835  is not open for ip:  10.188.18.23\n",
      "Port:  7846  is not open for ip:  10.188.18.23\n",
      "Port:  8181  is not open for ip:  10.188.18.23\n",
      "Port:  8846  is not open for ip:  10.188.18.23\n",
      "Port:  20931  is not open for ip:  10.188.18.23\n",
      "Port:  32227  is open for ip:  10.188.18.23\n",
      "--\n"
     ]
    }
   ],
   "source": [
    "for i in range(len(ips)):\n",
    "    for p in range(len(ports)):\n",
    "        ip = ips[i]\n",
    "        port = ports[p]\n",
    "        if check_port(ips[0], port):\n",
    "           print(\"Port: \", port, \" is not open for ip: \", ip)\n",
    "        else:\n",
    "           print(\"Port: \", port, \" is open for ip: \", ip)\n",
    "    print(\"--\")"
   ]
  },
  {
   "cell_type": "code",
   "execution_count": null,
   "metadata": {},
   "outputs": [],
   "source": []
  }
 ],
 "metadata": {
  "kernelspec": {
   "display_name": "Python 3",
   "language": "python",
   "name": "python3"
  },
  "language_info": {
   "codemirror_mode": {
    "name": "ipython",
    "version": 3
   },
   "file_extension": ".py",
   "mimetype": "text/x-python",
   "name": "python",
   "nbconvert_exporter": "python",
   "pygments_lexer": "ipython3",
   "version": "3.7.3"
  }
 },
 "nbformat": 4,
 "nbformat_minor": 2
}
