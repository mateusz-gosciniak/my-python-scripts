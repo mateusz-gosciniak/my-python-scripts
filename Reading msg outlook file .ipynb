{
 "cells": [
  {
   "cell_type": "code",
   "execution_count": 7,
   "metadata": {},
   "outputs": [],
   "source": [
    "import win32com.client\n",
    "import os"
   ]
  },
  {
   "cell_type": "code",
   "execution_count": 9,
   "metadata": {},
   "outputs": [
    {
     "name": "stdout",
     "output_type": "stream",
     "text": [
      "AIM\n",
      "smtp@racmo.com\n",
      "2019-01-14 15:31:00+00:00\n",
      "ES BO.notificaciones.Baku\n",
      "\n",
      "\n",
      "Baku - 03968045-LF [ADMITIDA A TRÁMITE LA DEMANDA]\n",
      "REF:Baku - 03968045-LF - BARRIOS SANCHEZ, FELIX - 712/2018 - JUZGADO 1 INST. E INSTRUCCION 2 de Andujar [2300541002]\r\n",
      "REF INTERNA:253379\r\n",
      "\r\n",
      "Adjunto notificación:[ADMITIDA A TRÁMITE LA DEMANDA]\r\n",
      "\r\n",
      "Saludos Cordiales,\n",
      "C:\\Users\\adm.m.gosciniak\\Desktop\\rel4 and 5 final test\\Embargos\\2018_0000712_MON_20191024851190920190111084349_039_JUST.pdf\n",
      "C:\\Users\\adm.m.gosciniak\\Desktop\\rel4 and 5 final test\\Embargos\\2018_0000712_MON_20191024851190920190111084349_039_0000457_2019_001_nV1Vo5wlMg_NOTIS.pdf\n"
     ]
    }
   ],
   "source": [
    "path_to_folder = r\"C:\\Users\\adm.m.gosciniak\\Desktop\\rel4 and 5 final test\"\n",
    "subfolder = \"Embargos\"\n",
    "msg_file_name = r\"Sin Asignar - INDIANAPOLIS - 05594656-L.msg\"\n",
    "\n",
    "full_path_to_folder = os.path.join(path_to_folder, subfolder)\n",
    "msg_file_path = os.path.join(full_path_to_folder, msg_file_name)\n",
    "\n",
    "msg_file_path = r'C:\\Users\\adm.m.gosciniak\\Desktop\\Baku - 03968045-LF.msg'\n",
    "\n",
    "outlook = win32com.client.Dispatch(\"Outlook.Application\").GetNamespace(\"MAPI\")\n",
    "msg = outlook.OpenSharedItem(msg_file_path)\n",
    "\n",
    "print(msg.SenderName)\n",
    "print(msg.SenderEmailAddress)\n",
    "print(msg.SentOn)\n",
    "print(msg.To)\n",
    "print(msg.CC)\n",
    "print(msg.BCC)\n",
    "print(msg.Subject)\n",
    "print(msg.Body)\n",
    "\n",
    "count_attachments = msg.Attachments.Count\n",
    "if count_attachments > 0:\n",
    "    for item in range(count_attachments):\n",
    "        att_name = msg.Attachments.Item(item + 1).Filename\n",
    "        path_to_att = os.path.join(full_path_to_folder, att_name)\n",
    "        \n",
    "        print(path_to_att)\n",
    "        \n",
    "        #switch(extension)\n",
    "        #case pdf\n",
    "        #case image\n",
    "        #case zip\n",
    "\n",
    "del outlook, msg"
   ]
  },
  {
   "cell_type": "code",
   "execution_count": null,
   "metadata": {},
   "outputs": [],
   "source": []
  }
 ],
 "metadata": {
  "kernelspec": {
   "display_name": "Python 3",
   "language": "python",
   "name": "python3"
  },
  "language_info": {
   "codemirror_mode": {
    "name": "ipython",
    "version": 3
   },
   "file_extension": ".py",
   "mimetype": "text/x-python",
   "name": "python",
   "nbconvert_exporter": "python",
   "pygments_lexer": "ipython3",
   "version": "3.7.1"
  }
 },
 "nbformat": 4,
 "nbformat_minor": 2
}
