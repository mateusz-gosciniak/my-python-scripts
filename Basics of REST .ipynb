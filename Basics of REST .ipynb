{
 "cells": [
  {
   "cell_type": "markdown",
   "metadata": {},
   "source": [
    "## TO DO\n",
    "- upload ML model - python file\n",
    "- implement mails_cleaner function\n",
    "- upload mails cleaner - python file\n",
    "- implement web design for user comfort\n",
    "- create Python dictionary for Checking version"
   ]
  },
  {
   "cell_type": "markdown",
   "metadata": {},
   "source": [
    "Instalation dependncies: \n",
    "- pip install Flask\n",
    "- pip instal gevent"
   ]
  },
  {
   "cell_type": "code",
   "execution_count": 1,
   "metadata": {},
   "outputs": [],
   "source": [
    "import os\n",
    "import sys\n",
    "import subprocess\n",
    "\n",
    "from flask import Flask\n",
    "from flask import request\n",
    "from gevent.pywsgi import WSGIServer"
   ]
  },
  {
   "cell_type": "code",
   "execution_count": 2,
   "metadata": {},
   "outputs": [],
   "source": [
    "def ExecutePythonScript(path_to_script, arguments):\n",
    "    return subprocess.check_output([sys.executable, path_to_script, arguments])\n",
    "\n",
    "def FindPathToMLModelByVersionID(version_id):\n",
    "    if version_id == 'v0.01':\n",
    "        return r\"C:\\TEMP\\p.py\"\n",
    "    else:\n",
    "        return \"Model not found\"\n",
    "\n",
    "ML_Models = ['v0.01']"
   ]
  },
  {
   "cell_type": "code",
   "execution_count": 3,
   "metadata": {},
   "outputs": [],
   "source": [
    "app = Flask(__name__)\n",
    "\n",
    "@app.route('/')\n",
    "def index():\n",
    "    return \"Welcome on ML Server\"        \n",
    "        \n",
    "    \n",
    "@app.route('/mails/', methods=['GET'])\n",
    "def list_of_ml_models():\n",
    "    return \"List of Models version: \\n\" + str(ML_Models)\n",
    "\n",
    "\n",
    "@app.route('/mails/<version_id>', methods=['POST'])\n",
    "def mails(version_id):\n",
    "    # Find ML Model by Version ID - make function\n",
    "    path_to_ml_model = FindPathToMLModelByVersionID(version_id)\n",
    "    \n",
    "    # Get Text As Input to ML Model\n",
    "    input_to_ml_model = request.stream.read()\n",
    "    input_to_ml_model = input_to_ml_model.decode(\"utf-8\") # decode by utf-8\n",
    "    \n",
    "    # Run ML Model\n",
    "    result = ExecutePythonScript(path_to_ml_model, input_to_ml_model)\n",
    "    result = result.decode(\"utf-8\")\n",
    "    \n",
    "    # Log\n",
    "    print(\"Result: \", result)\n",
    "    print(\"Version ID: \", version_id)\n",
    "    print(\"Input to ML Model: \", input_to_ml_model)\n",
    "    return result        "
   ]
  },
  {
   "cell_type": "code",
   "execution_count": null,
   "metadata": {},
   "outputs": [
    {
     "name": "stderr",
     "output_type": "stream",
     "text": [
      "::1 - - [2019-07-15 10:18:55] \"GET /mails/ HTTP/1.1\" 200 150 0.001003\n",
      "::1 - - [2019-07-15 10:18:55] \"GET /favicon.ico HTTP/1.1\" 404 109 0.013035\n",
      "::1 - - [2019-07-15 10:19:03] \"GET / HTTP/1.1\" 200 136 0.001003\n",
      "::1 - - [2019-07-15 10:19:08] \"GET / HTTP/1.1\" 200 136 0.000000\n",
      "::1 - - [2019-07-15 10:19:23] \"GET / HTTP/1.1\" 200 136 0.001003\n"
     ]
    },
    {
     "name": "stdout",
     "output_type": "stream",
     "text": [
      "Result:  Hello WorldInput_do_sieci_\r\n",
      "\r\n",
      "\n",
      "Version ID:  v0.01\n",
      "Input to ML Model:  Input_do_sieci_\n",
      "\n"
     ]
    },
    {
     "name": "stderr",
     "output_type": "stream",
     "text": [
      "::1 - - [2019-07-15 10:20:02] \"POST /mails/v0.01 HTTP/1.1\" 200 146 0.070211\n"
     ]
    },
    {
     "name": "stdout",
     "output_type": "stream",
     "text": [
      "Result:  Hello WorldInput_do_sieci_\r\n",
      "\r\n",
      "\n",
      "Version ID:  v0.01\n",
      "Input to ML Model:  Input_do_sieci_\n",
      "\n"
     ]
    },
    {
     "name": "stderr",
     "output_type": "stream",
     "text": [
      "::1 - - [2019-07-15 10:20:05] \"POST /mails/v0.01 HTTP/1.1\" 200 146 0.071187\n"
     ]
    }
   ],
   "source": [
    "if __name__ == '__main__':\n",
    "    http_server = WSGIServer(('', 5000), app)\n",
    "    http_server.serve_forever()"
   ]
  },
  {
   "cell_type": "code",
   "execution_count": null,
   "metadata": {},
   "outputs": [],
   "source": []
  }
 ],
 "metadata": {
  "kernelspec": {
   "display_name": "Python 3",
   "language": "python",
   "name": "python3"
  },
  "language_info": {
   "codemirror_mode": {
    "name": "ipython",
    "version": 3
   },
   "file_extension": ".py",
   "mimetype": "text/x-python",
   "name": "python",
   "nbconvert_exporter": "python",
   "pygments_lexer": "ipython3",
   "version": "3.7.3"
  }
 },
 "nbformat": 4,
 "nbformat_minor": 2
}
