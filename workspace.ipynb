{
 "cells": [
  {
   "cell_type": "code",
   "execution_count": 7,
   "metadata": {},
   "outputs": [
    {
     "data": {
      "text/plain": [
       "'\"En relación a los datos de carácter personal, sobre su confidencialidad y prohibición de\\ntransmisión o comunicación por cualquier medio o procedimiento,  deberán ser tratados\\nexclusivamente para los fines propios de la Administración de Justicia (ex Ley Orgánica\\n15/99, de 13 de diciembre, de protección de datos de carácter personal y ex Reglamento\\ngeneral  de  protección  de  datos  (UE)  2016/679  de  27  de  abril  de  2016  relativo  a  la\\nprotección de las personas físicas en lo que respecta al tratamiento de datos personales y a\\nla libre circulación de estos datos)\"'"
      ]
     },
     "execution_count": 7,
     "metadata": {},
     "output_type": "execute_result"
    }
   ],
   "source": [
    "import re\n",
    "\n",
    "txt = \"\\\"En relación a los datos de carácter personal, sobre su confidencialidad y prohibición de\\ntransmisión o comunicación por cualquier medio o procedimiento,  deberán ser tratados\\nexclusivamente para los fines propios de la Administración de Justicia (ex Ley Orgánica\\n15/99, de 13 de diciembre, de protección de datos de carácter personal y ex Reglamento\\ngeneral  de  protección  de  datos  (UE)  2016/679  de  27  de  abril  de  2016  relativo  a  la\\nprotección de las personas físicas en lo que respecta al tratamiento de datos personales y a\\nla libre circulación de estos datos)\\\"\"\n",
    "txt"
   ]
  },
  {
   "cell_type": "code",
   "execution_count": 19,
   "metadata": {},
   "outputs": [
    {
     "ename": "SyntaxError",
     "evalue": "invalid syntax (<ipython-input-19-33a3a7f34f20>, line 2)",
     "output_type": "error",
     "traceback": [
      "\u001b[1;36m  File \u001b[1;32m\"<ipython-input-19-33a3a7f34f20>\"\u001b[1;36m, line \u001b[1;32m2\u001b[0m\n\u001b[1;33m    disclaimer = \"(?=/\"en relación)(.*?)(\\)/\")\"\u001b[0m\n\u001b[1;37m                        ^\u001b[0m\n\u001b[1;31mSyntaxError\u001b[0m\u001b[1;31m:\u001b[0m invalid syntax\n"
     ]
    }
   ],
   "source": [
    "txt = txt.lower()\n",
    "disclaimer = \"(?=/\"en relación)(.*?)(\\)/\")\"\n",
    "disclaimer"
   ]
  },
  {
   "cell_type": "code",
   "execution_count": null,
   "metadata": {},
   "outputs": [],
   "source": [
    "txt = re.sub(disclaimer, \"\", txt) \n",
    "txt"
   ]
  }
 ],
 "metadata": {
  "kernelspec": {
   "display_name": "Python 3",
   "language": "python",
   "name": "python3"
  },
  "language_info": {
   "codemirror_mode": {
    "name": "ipython",
    "version": 3
   },
   "file_extension": ".py",
   "mimetype": "text/x-python",
   "name": "python",
   "nbconvert_exporter": "python",
   "pygments_lexer": "ipython3",
   "version": "3.7.3"
  }
 },
 "nbformat": 4,
 "nbformat_minor": 2
}
